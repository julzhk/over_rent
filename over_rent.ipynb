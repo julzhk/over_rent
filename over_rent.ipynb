{
 "nbformat": 4,
 "nbformat_minor": 0,
 "metadata": {
  "colab": {
   "name": "over_rent.ipynb",
   "provenance": [],
   "collapsed_sections": [],
   "toc_visible": true,
   "include_colab_link": true
  },
  "kernelspec": {
   "name": "python3",
   "language": "python",
   "display_name": "Python 3"
  }
 },
 "cells": [
  {
   "cell_type": "markdown",
   "metadata": {
    "id": "view-in-github",
    "colab_type": "text"
   },
   "source": [
    "<a href=\"https://colab.research.google.com/github/julzhk/over_rent/blob/main/over_rent.ipynb\" target=\"_parent\"><img src=\"https://colab.research.google.com/assets/colab-badge.svg\" alt=\"Open In Colab\"/></a>"
   ]
  },
  {
   "cell_type": "markdown",
   "metadata": {
    "id": "gh1wLLbBrMCl"
   },
   "source": [
    "*   The constants from the spreadsheet\n",
    "*   Type in your own numbers in the fields on the right -->\n",
    "*   You might need to click 'Runtime/Run all' in the menu above\n",
    "* sources: https://docs.google.com/spreadsheets/d/1CXgeQxwwgHfyA4P_Dcr71WPZgzaFZsdbGx3oTdCLnkw/edit#gid=809195061"
   ]
  },
  {
   "cell_type": "code",
   "metadata": {
    "id": "B4-wsFRN_hmL"
   },
   "source": [
    "# Inputs:\n",
    "# ARent - Your current monthly rent\n",
    "# BYear - The year you started paying rent in London\n",
    "# \n",
    "# Outputs:\n",
    "# ARent - (We report back their current rent on the results screen too)\n",
    "# CRentWages - Your monthly rent now if it had gone up the same as wages since 2011 (A weighted against average)\n",
    "# DRentDiff - How much you are overpaying per month now (A minus C)\n",
    "# ERentDiffTotal - The total you have overpaid in rent since [BYear] (Average from table weighted with A vs average rent)\n",
    "# FRentDiffTotalAll - The total ALL London renters have overpaid since [BYear]\n",
    "# GRentDiffTotalAll2011 - the amount ALL London renters have overpaid since 2011 (this is a constant number every time - £23.8 billion on latest calculations)\n",
    "#Calculation Constants:\n",
    "# year rent_inf overage\n",
    "#  2020   -0.003    0.10\n",
    "#  2019   -0.021    0.11\n",
    "#  2018   -0.004    0.16\n",
    "#  2017   -0.017    0.19\n",
    "#  2016    0.023    0.22\n",
    "#  2015    0.095    0.22\n",
    "#  2014    0.042    0.14\n",
    "#  2013    0.105    0.12\n",
    "#  2012    0.033    0.03\n"
   ],
   "execution_count": 1,
   "outputs": []
  },
  {
   "cell_type": "code",
   "metadata": {
    "id": "9LVUfFwA__b5"
   },
   "source": [
    "#User Inputs\n",
    "rent = 1500 #@param {type: \"number\"}\n",
    "startYear =  2011#@param {type: \"number\"}\n"
   ],
   "execution_count": 3,
   "outputs": []
  },
  {
   "cell_type": "code",
   "metadata": {
    "id": "Yq6lCP6UTa24"
   },
   "source": [
    "#Constants\n",
    "#Total London Overpaid:\n",
    "rentdiff_lookup = {\n",
    "    2012:372421209,\n",
    "    2013:1809835737,\n",
    "    2014:2442373670,\n",
    "    2015:3981292737,\n",
    "    2016:4494047935,\n",
    "    2017:3648550668,\n",
    "    2018:2933029421,\n",
    "    2019:2134937493,\n",
    "    2020:1976024700\n",
    "}\n",
    "s = {rentdiff for year, rentdiff in rentdiff_lookup.items() if year > startYear}\n",
    "rentDiffTotalAll = round(sum(s)/1000000000,1)\n"
   ],
   "execution_count": 4,
   "outputs": []
  },
  {
   "cell_type": "code",
   "metadata": {
    "id": "v3rADuFfAQei",
    "colab": {
     "base_uri": "https://localhost:8080/"
    },
    "outputId": "4cc5d88f-bae4-4a91-fef4-5ffb94a0bb8d"
   },
   "source": [
    "#Calculations\n",
    "if startYear <= 2020:\n",
    "  over20 = rent*0.1044\n",
    "else:\n",
    "  over20 = 0\n",
    "\n",
    "rent19 = rent/(1+(-0.003))\n",
    "if startYear <= 2019:\n",
    "  over19 = rent19*0.1124\n",
    "else:\n",
    "  over19 = 0\n",
    "\n",
    "rent18 = rent19/(1+(-0.021))\n",
    "if startYear <= 2018:\n",
    "  over18 = rent18*0.1587\n",
    "else:\n",
    "  over18 = 0\n",
    "\n",
    "rent17 = rent18/(1+(-0.004))\n",
    "if startYear <= 2017:\n",
    "  over17 = rent17*0.1869\n",
    "else:\n",
    "  over17 = 0\n",
    "\n",
    "rent16 = rent17/(1+(-0.0170))\n",
    "if startYear <= 2016:\n",
    "  over16 = rent16*0.2239\n",
    "else:\n",
    "  over16 = 0\n",
    "\n",
    "rent15 = rent16/(1+(0.0230))\n",
    "if startYear <= 2015:\n",
    "  over15 = rent15*0.2196\n",
    "else:\n",
    "  over15 = 0\n",
    "\n",
    "rent14 = rent15/(1+(0.0950))\n",
    "if startYear <= 2014:\n",
    "  over14 = rent14*0.1443\n",
    "else:\n",
    "  over14 = 0\n",
    "\n",
    "rent13 = rent14/(1+(0.0420))\n",
    "if startYear <= 2013:\n",
    "  over13 = rent13*0.1152\n",
    "else:\n",
    "  over13 = 0\n",
    "\n",
    "rent12 = rent13/(1+(0.1050))\n",
    "if startYear <= 2012:\n",
    "  over12 = rent12*0.0265\n",
    "else:\n",
    "  over12 = 0\n",
    "\n",
    "print(over12)"
   ],
   "execution_count": 5,
   "outputs": [
    {
     "name": "stdout",
     "output_type": "stream",
     "text": [
      "32.24977409032007\n"
     ]
    }
   ]
  },
  {
   "cell_type": "code",
   "metadata": {
    "colab": {
     "base_uri": "https://localhost:8080/"
    },
    "id": "95V_efWwZ-38",
    "outputId": "dd5107d6-bd84-43e6-a210-6acf10d7b4b0"
   },
   "source": [
    "#Outputs\r\n",
    "#A:Rent\r\n",
    "rentOut = round(rent)\r\n",
    "print(rentOut)\r\n",
    "#CRentWages\r\n",
    "rentWages = round(rent - over20)\r\n",
    "print(rentWages)\r\n",
    "#DRentDiff\r\n",
    "rentDiff = round(over20)\r\n",
    "print(rentDiff)\r\n",
    "#ERentDiffTotal\r\n",
    "rentDiffTotal = round((over20+over19+over18+over17+over16+over15+over14+over13+over12)*12)\r\n",
    "print(rentDiffTotal)\r\n",
    "#FRentDiffTotalAll \r\n",
    "rentDiffTotalAll = round((TotLon20+TotLon19+TotLon18+TotLon17+TotLon16+TotLon15+TotLon14+TotLon13+TotLon12)/1000000000,1)\r\n",
    "print(rentDiffTotalAll)\r\n",
    "#GRentDiffTotalAll2011\r\n",
    "rentDiffTotalAll2011 = round(23792513569/1000000000,1)\r\n",
    "print(rentDiffTotalAll2011)\r\n"
   ],
   "execution_count": 6,
   "outputs": [
    {
     "name": "stdout",
     "output_type": "stream",
     "text": [
      "1500\n",
      "1343\n",
      "157\n",
      "23229\n",
      "23.8\n",
      "23.8\n"
     ]
    }
   ]
  }
 ]
}