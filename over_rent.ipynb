{
 "nbformat": 4,
 "nbformat_minor": 0,
 "metadata": {
  "colab": {
   "name": "over_rent.ipynb",
   "provenance": [],
   "collapsed_sections": [],
   "toc_visible": true,
   "include_colab_link": true
  },
  "kernelspec": {
   "name": "python3",
   "language": "python",
   "display_name": "Python 3"
  }
 },
 "cells": [
  {
   "cell_type": "markdown",
   "metadata": {
    "id": "view-in-github",
    "colab_type": "text"
   },
   "source": [
    "<a href=\"https://colab.research.google.com/github/julzhk/over_rent/blob/main/over_rent.ipynb\" target=\"_parent\"><img src=\"https://colab.research.google.com/assets/colab-badge.svg\" alt=\"Open In Colab\"/></a>"
   ]
  },
  {
   "cell_type": "markdown",
   "metadata": {
    "id": "gh1wLLbBrMCl"
   },
   "source": [
    "*   The constants from the spreadsheet\n",
    "*   Type in your own numbers in the fields on the right -->\n",
    "*   You might need to click 'Runtime/Run all' in the menu above\n",
    "* sources: https://docs.google.com/spreadsheets/d/1CXgeQxwwgHfyA4P_Dcr71WPZgzaFZsdbGx3oTdCLnkw/edit#gid=809195061"
   ]
  },
  {
   "cell_type": "code",
   "metadata": {
    "id": "B4-wsFRN_hmL"
   },
   "source": [
    "# Inputs:\n",
    "# ARent - Your current monthly rent\n",
    "# BYear - The year you started paying rent in London\n",
    "# \n",
    "# Outputs:\n",
    "# ARent - (We report back their current rent on the results screen too)\n",
    "# CRentWages - Your monthly rent now if it had gone up the same as wages since 2011 (A weighted against average)\n",
    "# DRentDiff - How much you are overpaying per month now (A minus C)\n",
    "# ERentDiffTotal - The total you have overpaid in rent since [BYear] (Average from table weighted with A vs average rent)\n",
    "# FRentDiffTotalAll - The total ALL London renters have overpaid since [BYear]\n",
    "# GRentDiffTotalAll2011 - the amount ALL London renters have overpaid since 2011 (this is a constant number every time - £23.8 billion on latest calculations)\n",
    "#Calculation Constants:\n",
    "# year rent_inf overage\n",
    "#  2020   -0.003    0.10\n",
    "#  2019   -0.021    0.11\n",
    "#  2018   -0.004    0.16\n",
    "#  2017   -0.017    0.19\n",
    "#  2016    0.023    0.22\n",
    "#  2015    0.095    0.22\n",
    "#  2014    0.042    0.14\n",
    "#  2013    0.105    0.12\n",
    "#  2012    0.033    0.03\n"
   ],
   "execution_count": 16,
   "outputs": []
  },
  {
   "cell_type": "code",
   "metadata": {
    "id": "9LVUfFwA__b5"
   },
   "source": [
    "#User Inputs\n",
    "rent = 1500 #@param {type: \"number\"}\n",
    "startYear =  2011#@param {type: \"number\"}\n"
   ],
   "execution_count": 17,
   "outputs": []
  },
  {
   "cell_type": "code",
   "metadata": {
    "id": "Yq6lCP6UTa24"
   },
   "source": [
    "#Constants\n",
    "#Total London Overpaid:\n",
    "rentdiff_lookup = {\n",
    "    2012:372421209,\n",
    "    2013:1809835737,\n",
    "    2014:2442373670,\n",
    "    2015:3981292737,\n",
    "    2016:4494047935,\n",
    "    2017:3648550668,\n",
    "    2018:2933029421,\n",
    "    2019:2134937493,\n",
    "    2020:1976024700\n",
    "}\n",
    "rent_diffs_list = [rentdiff for year, rentdiff in rentdiff_lookup.items() if year > startYear]\n",
    "rentDiffTotalAll = round(sum(rent_diffs_list)/1000000000,1)\n"
   ],
   "execution_count": 18,
   "outputs": []
  },
  {
   "cell_type": "code",
   "metadata": {
    "id": "v3rADuFfAQei",
    "colab": {
     "base_uri": "https://localhost:8080/"
    },
    "outputId": "4cc5d88f-bae4-4a91-fef4-5ffb94a0bb8d"
   },
   "source": [
    "#Calculations\n",
    "\n",
    "rent_LU = {\n",
    "    2020: (1, 0.1044),\n",
    "    2019: (1+(-0.003), 0.1124),\n",
    "    2018: ((1+(-0.021)), 0.1587),\n",
    "    2017: ((1+(-0.004)), 0.1869),\n",
    "    2016: ( (1+(-0.0170)), 0.2239),\n",
    "    2015: ((1+(0.0230)), 0.2196),\n",
    "    2014: ( (1+(0.0950)), 0.1443),\n",
    "    2013: ((1+(0.0420)), 0.1152),\n",
    "    2012: ((1+(0.1050)), 0.0265),\n",
    "}\n",
    "prev_yr_rent = rent\n",
    "overages = []\n",
    "for year in rent_LU.keys():\n",
    "    if startYear <= year:\n",
    "        divisor, multip = rent_LU[year]\n",
    "        prev_yr_rent = prev_yr_rent / divisor\n",
    "        overages.append(prev_yr_rent * multip)\n",
    "over20 = overages[0]\n",
    "rentDiffTotal = round(sum(overages)*12)"
   ],
   "execution_count": 19,
   "outputs": []
  },
  {
   "cell_type": "code",
   "metadata": {
    "colab": {
     "base_uri": "https://localhost:8080/"
    },
    "id": "95V_efWwZ-38",
    "outputId": "dd5107d6-bd84-43e6-a210-6acf10d7b4b0",
    "pycharm": {
     "name": "#%%\n"
    }
   },
   "source": [
    "#Outputs\n",
    "#A:Rent\n",
    "rentOut = round(rent)\n",
    "print(rentOut)\n",
    "#CRentWages\n",
    "rentWages = round(rent - over20)\n",
    "print(rentWages)\n",
    "#DRentDiff\n",
    "rentDiff = round(over20)\n",
    "print(rentDiff)\n",
    "#ERentDiffTotal\n",
    "\n",
    "print(rentDiffTotal)\n",
    "print(rentDiffTotalAll)\n",
    "#GRentDiffTotalAll2011\n",
    "rentDiffTotalAll2011 = round(23792513569/1000000000,1)\n",
    "print(rentDiffTotalAll2011)\n"
   ],
   "execution_count": 24,
   "outputs": [
    {
     "name": "stdout",
     "output_type": "stream",
     "text": [
      "1500\n",
      "1343\n",
      "157\n",
      "23229\n",
      "23.8\n",
      "23.8\n"
     ]
    }
   ]
  }
 ]
}